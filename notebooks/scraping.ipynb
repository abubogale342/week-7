{
 "cells": [
  {
   "cell_type": "code",
   "execution_count": 1,
   "id": "60de8432",
   "metadata": {},
   "outputs": [],
   "source": [
    "import nest_asyncio\n",
    "nest_asyncio.apply()"
   ]
  },
  {
   "cell_type": "code",
   "execution_count": 2,
   "id": "4205c034",
   "metadata": {},
   "outputs": [],
   "source": [
    "%load_ext dotenv\n",
    "%dotenv\n",
    "%reload_ext dotenv"
   ]
  },
  {
   "cell_type": "code",
   "execution_count": null,
   "id": "e396d462",
   "metadata": {},
   "outputs": [
    {
     "name": "stdout",
     "output_type": "stream",
     "text": [
      "29361353\n",
      "2ab94d7f088b3f429b5bb365ab7d4dab\n"
     ]
    },
    {
     "name": "stderr",
     "output_type": "stream",
     "text": [
      "/tmp/ipykernel_14183/2586376176.py:38: RuntimeWarning: coroutine 'scrape_channel' was never awaited\n",
      "  tasks = [scrape_channel(channel) for channel in channels]\n",
      "RuntimeWarning: Enable tracemalloc to get the object allocation traceback\n"
     ]
    },
    {
     "ename": "ConnectionNotInitedError",
     "evalue": "Connection not initialized (caused by GetUsersRequest)",
     "output_type": "error",
     "traceback": [
      "\u001b[31m---------------------------------------------------------------------------\u001b[39m",
      "\u001b[31mConnectionNotInitedError\u001b[39m                  Traceback (most recent call last)",
      "\u001b[36mCell\u001b[39m\u001b[36m \u001b[39m\u001b[32mIn[4]\u001b[39m\u001b[32m, line 39\u001b[39m\n\u001b[32m     36\u001b[39m channels = [\u001b[33m\"\u001b[39m\u001b[33mlobelia4cosmetics\u001b[39m\u001b[33m\"\u001b[39m, \u001b[33m\"\u001b[39m\u001b[33mCheMed123\u001b[39m\u001b[33m\"\u001b[39m, \u001b[33m\"\u001b[39m\u001b[33mtikvahpharma\u001b[39m\u001b[33m\"\u001b[39m]\n\u001b[32m     38\u001b[39m tasks = [scrape_channel(channel) \u001b[38;5;28;01mfor\u001b[39;00m channel \u001b[38;5;129;01min\u001b[39;00m channels]\n\u001b[32m---> \u001b[39m\u001b[32m39\u001b[39m \u001b[38;5;28;01mawait\u001b[39;00m asyncio.gather(*tasks)\n",
      "\u001b[36mFile \u001b[39m\u001b[32m/usr/lib/python3.12/asyncio/tasks.py:385\u001b[39m, in \u001b[36mTask.__wakeup\u001b[39m\u001b[34m(self, future)\u001b[39m\n\u001b[32m    383\u001b[39m \u001b[38;5;28;01mdef\u001b[39;00m\u001b[38;5;250m \u001b[39m\u001b[34m__wakeup\u001b[39m(\u001b[38;5;28mself\u001b[39m, future):\n\u001b[32m    384\u001b[39m     \u001b[38;5;28;01mtry\u001b[39;00m:\n\u001b[32m--> \u001b[39m\u001b[32m385\u001b[39m         \u001b[43mfuture\u001b[49m\u001b[43m.\u001b[49m\u001b[43mresult\u001b[49m\u001b[43m(\u001b[49m\u001b[43m)\u001b[49m\n\u001b[32m    386\u001b[39m     \u001b[38;5;28;01mexcept\u001b[39;00m \u001b[38;5;167;01mBaseException\u001b[39;00m \u001b[38;5;28;01mas\u001b[39;00m exc:\n\u001b[32m    387\u001b[39m         \u001b[38;5;66;03m# This may also be a cancellation.\u001b[39;00m\n\u001b[32m    388\u001b[39m         \u001b[38;5;28mself\u001b[39m.__step(exc)\n",
      "\u001b[36mFile \u001b[39m\u001b[32m/usr/lib/python3.12/asyncio/tasks.py:316\u001b[39m, in \u001b[36mTask.__step_run_and_handle_result\u001b[39m\u001b[34m(***failed resolving arguments***)\u001b[39m\n\u001b[32m    314\u001b[39m         result = coro.send(\u001b[38;5;28;01mNone\u001b[39;00m)\n\u001b[32m    315\u001b[39m     \u001b[38;5;28;01melse\u001b[39;00m:\n\u001b[32m--> \u001b[39m\u001b[32m316\u001b[39m         result = \u001b[43mcoro\u001b[49m\u001b[43m.\u001b[49m\u001b[43mthrow\u001b[49m\u001b[43m(\u001b[49m\u001b[43mexc\u001b[49m\u001b[43m)\u001b[49m\n\u001b[32m    317\u001b[39m \u001b[38;5;28;01mexcept\u001b[39;00m \u001b[38;5;167;01mStopIteration\u001b[39;00m \u001b[38;5;28;01mas\u001b[39;00m exc:\n\u001b[32m    318\u001b[39m     \u001b[38;5;28;01mif\u001b[39;00m \u001b[38;5;28mself\u001b[39m._must_cancel:\n\u001b[32m    319\u001b[39m         \u001b[38;5;66;03m# Task is cancelled right before coro stops.\u001b[39;00m\n",
      "\u001b[36mCell\u001b[39m\u001b[36m \u001b[39m\u001b[32mIn[4]\u001b[39m\u001b[32m, line 21\u001b[39m, in \u001b[36mscrape_channel\u001b[39m\u001b[34m(channel_username, limit)\u001b[39m\n\u001b[32m     20\u001b[39m \u001b[38;5;28;01masync\u001b[39;00m \u001b[38;5;28;01mdef\u001b[39;00m\u001b[38;5;250m \u001b[39m\u001b[34mscrape_channel\u001b[39m(channel_username, limit=\u001b[32m50\u001b[39m):\n\u001b[32m---> \u001b[39m\u001b[32m21\u001b[39m     \u001b[38;5;28;01mawait\u001b[39;00m client.start()\n\u001b[32m     22\u001b[39m     \u001b[38;5;28mprint\u001b[39m(\u001b[33mf\u001b[39m\u001b[33m\"\u001b[39m\u001b[33mScraping messages from \u001b[39m\u001b[38;5;132;01m{\u001b[39;00mchannel_username\u001b[38;5;132;01m}\u001b[39;00m\u001b[33m\"\u001b[39m)\n\u001b[32m     24\u001b[39m     messages = \u001b[38;5;28;01mawait\u001b[39;00m client.get_messages(channel_username, limit=limit)\n",
      "\u001b[36mFile \u001b[39m\u001b[32m~/Documents/Documents/projects/10_Academy/week-7/.venv/lib/python3.12/site-packages/telethon/client/auth.py:141\u001b[39m, in \u001b[36mAuthMethods._start\u001b[39m\u001b[34m(self, phone, password, bot_token, force_sms, code_callback, first_name, last_name, max_attempts)\u001b[39m\n\u001b[32m    135\u001b[39m     \u001b[38;5;28;01mawait\u001b[39;00m \u001b[38;5;28mself\u001b[39m.connect()\n\u001b[32m    137\u001b[39m \u001b[38;5;66;03m# Rather than using `is_user_authorized`, use `get_me`. While this is\u001b[39;00m\n\u001b[32m    138\u001b[39m \u001b[38;5;66;03m# more expensive and needs to retrieve more data from the server, it\u001b[39;00m\n\u001b[32m    139\u001b[39m \u001b[38;5;66;03m# enables the library to warn users trying to login to a different\u001b[39;00m\n\u001b[32m    140\u001b[39m \u001b[38;5;66;03m# account. See #1172.\u001b[39;00m\n\u001b[32m--> \u001b[39m\u001b[32m141\u001b[39m me = \u001b[38;5;28;01mawait\u001b[39;00m \u001b[38;5;28mself\u001b[39m.get_me()\n\u001b[32m    142\u001b[39m \u001b[38;5;28;01mif\u001b[39;00m me \u001b[38;5;129;01mis\u001b[39;00m \u001b[38;5;129;01mnot\u001b[39;00m \u001b[38;5;28;01mNone\u001b[39;00m:\n\u001b[32m    143\u001b[39m     \u001b[38;5;66;03m# The warnings here are on a best-effort and may fail.\u001b[39;00m\n\u001b[32m    144\u001b[39m     \u001b[38;5;28;01mif\u001b[39;00m bot_token:\n\u001b[32m    145\u001b[39m         \u001b[38;5;66;03m# bot_token's first part has the bot ID, but it may be invalid\u001b[39;00m\n\u001b[32m    146\u001b[39m         \u001b[38;5;66;03m# so don't try to parse as int (instead cast our ID to string).\u001b[39;00m\n",
      "\u001b[36mFile \u001b[39m\u001b[32m~/Documents/Documents/projects/10_Academy/week-7/.venv/lib/python3.12/site-packages/telethon/client/users.py:170\u001b[39m, in \u001b[36mUserMethods.get_me\u001b[39m\u001b[34m(self, input_peer)\u001b[39m\n\u001b[32m    167\u001b[39m     \u001b[38;5;28;01mreturn\u001b[39;00m \u001b[38;5;28mself\u001b[39m._mb_entity_cache.get(\u001b[38;5;28mself\u001b[39m._mb_entity_cache.self_id)._as_input_peer()\n\u001b[32m    169\u001b[39m \u001b[38;5;28;01mtry\u001b[39;00m:\n\u001b[32m--> \u001b[39m\u001b[32m170\u001b[39m     me = (\u001b[38;5;28;01mawait\u001b[39;00m \u001b[38;5;28mself\u001b[39m(\n\u001b[32m    171\u001b[39m         functions.users.GetUsersRequest([types.InputUserSelf()])))[\u001b[32m0\u001b[39m]\n\u001b[32m    173\u001b[39m     \u001b[38;5;28;01mif\u001b[39;00m \u001b[38;5;129;01mnot\u001b[39;00m \u001b[38;5;28mself\u001b[39m._mb_entity_cache.self_id:\n\u001b[32m    174\u001b[39m         \u001b[38;5;28mself\u001b[39m._mb_entity_cache.set_self_user(me.id, me.bot, me.access_hash)\n",
      "\u001b[36mFile \u001b[39m\u001b[32m~/Documents/Documents/projects/10_Academy/week-7/.venv/lib/python3.12/site-packages/telethon/client/users.py:30\u001b[39m, in \u001b[36mUserMethods.__call__\u001b[39m\u001b[34m(self, request, ordered, flood_sleep_threshold)\u001b[39m\n\u001b[32m     29\u001b[39m \u001b[38;5;28;01masync\u001b[39;00m \u001b[38;5;28;01mdef\u001b[39;00m\u001b[38;5;250m \u001b[39m\u001b[34m__call__\u001b[39m(\u001b[38;5;28mself\u001b[39m: \u001b[33m'\u001b[39m\u001b[33mTelegramClient\u001b[39m\u001b[33m'\u001b[39m, request, ordered=\u001b[38;5;28;01mFalse\u001b[39;00m, flood_sleep_threshold=\u001b[38;5;28;01mNone\u001b[39;00m):\n\u001b[32m---> \u001b[39m\u001b[32m30\u001b[39m     \u001b[38;5;28;01mreturn\u001b[39;00m \u001b[38;5;28;01mawait\u001b[39;00m \u001b[38;5;28mself\u001b[39m._call(\u001b[38;5;28mself\u001b[39m._sender, request, ordered=ordered)\n",
      "\u001b[36mFile \u001b[39m\u001b[32m~/Documents/Documents/projects/10_Academy/week-7/.venv/lib/python3.12/site-packages/telethon/client/users.py:92\u001b[39m, in \u001b[36mUserMethods._call\u001b[39m\u001b[34m(self, sender, request, ordered, flood_sleep_threshold)\u001b[39m\n\u001b[32m     90\u001b[39m         \u001b[38;5;28;01mreturn\u001b[39;00m results\n\u001b[32m     91\u001b[39m \u001b[38;5;28;01melse\u001b[39;00m:\n\u001b[32m---> \u001b[39m\u001b[32m92\u001b[39m     result = \u001b[38;5;28;01mawait\u001b[39;00m future\n\u001b[32m     93\u001b[39m     \u001b[38;5;28mself\u001b[39m.session.process_entities(result)\n\u001b[32m     94\u001b[39m     \u001b[38;5;28;01mreturn\u001b[39;00m result\n",
      "\u001b[36mFile \u001b[39m\u001b[32m/usr/lib/python3.12/asyncio/futures.py:287\u001b[39m, in \u001b[36mFuture.__await__\u001b[39m\u001b[34m(self)\u001b[39m\n\u001b[32m    285\u001b[39m \u001b[38;5;28;01mif\u001b[39;00m \u001b[38;5;129;01mnot\u001b[39;00m \u001b[38;5;28mself\u001b[39m.done():\n\u001b[32m    286\u001b[39m     \u001b[38;5;28mself\u001b[39m._asyncio_future_blocking = \u001b[38;5;28;01mTrue\u001b[39;00m\n\u001b[32m--> \u001b[39m\u001b[32m287\u001b[39m     \u001b[38;5;28;01myield\u001b[39;00m \u001b[38;5;28mself\u001b[39m  \u001b[38;5;66;03m# This tells Task to wait for completion.\u001b[39;00m\n\u001b[32m    288\u001b[39m \u001b[38;5;28;01mif\u001b[39;00m \u001b[38;5;129;01mnot\u001b[39;00m \u001b[38;5;28mself\u001b[39m.done():\n\u001b[32m    289\u001b[39m     \u001b[38;5;28;01mraise\u001b[39;00m \u001b[38;5;167;01mRuntimeError\u001b[39;00m(\u001b[33m\"\u001b[39m\u001b[33mawait wasn\u001b[39m\u001b[33m'\u001b[39m\u001b[33mt used with future\u001b[39m\u001b[33m\"\u001b[39m)\n",
      "\u001b[36mFile \u001b[39m\u001b[32m/usr/lib/python3.12/asyncio/tasks.py:385\u001b[39m, in \u001b[36mTask.__wakeup\u001b[39m\u001b[34m(self, future)\u001b[39m\n\u001b[32m    383\u001b[39m \u001b[38;5;28;01mdef\u001b[39;00m\u001b[38;5;250m \u001b[39m\u001b[34m__wakeup\u001b[39m(\u001b[38;5;28mself\u001b[39m, future):\n\u001b[32m    384\u001b[39m     \u001b[38;5;28;01mtry\u001b[39;00m:\n\u001b[32m--> \u001b[39m\u001b[32m385\u001b[39m         \u001b[43mfuture\u001b[49m\u001b[43m.\u001b[49m\u001b[43mresult\u001b[49m\u001b[43m(\u001b[49m\u001b[43m)\u001b[49m\n\u001b[32m    386\u001b[39m     \u001b[38;5;28;01mexcept\u001b[39;00m \u001b[38;5;167;01mBaseException\u001b[39;00m \u001b[38;5;28;01mas\u001b[39;00m exc:\n\u001b[32m    387\u001b[39m         \u001b[38;5;66;03m# This may also be a cancellation.\u001b[39;00m\n\u001b[32m    388\u001b[39m         \u001b[38;5;28mself\u001b[39m.__step(exc)\n",
      "\u001b[36mFile \u001b[39m\u001b[32m/usr/lib/python3.12/asyncio/futures.py:203\u001b[39m, in \u001b[36mFuture.result\u001b[39m\u001b[34m(self)\u001b[39m\n\u001b[32m    201\u001b[39m \u001b[38;5;28mself\u001b[39m.__log_traceback = \u001b[38;5;28;01mFalse\u001b[39;00m\n\u001b[32m    202\u001b[39m \u001b[38;5;28;01mif\u001b[39;00m \u001b[38;5;28mself\u001b[39m._exception \u001b[38;5;129;01mis\u001b[39;00m \u001b[38;5;129;01mnot\u001b[39;00m \u001b[38;5;28;01mNone\u001b[39;00m:\n\u001b[32m--> \u001b[39m\u001b[32m203\u001b[39m     \u001b[38;5;28;01mraise\u001b[39;00m \u001b[38;5;28mself\u001b[39m._exception.with_traceback(\u001b[38;5;28mself\u001b[39m._exception_tb)\n\u001b[32m    204\u001b[39m \u001b[38;5;28;01mreturn\u001b[39;00m \u001b[38;5;28mself\u001b[39m._result\n",
      "\u001b[31mConnectionNotInitedError\u001b[39m: Connection not initialized (caused by GetUsersRequest)"
     ]
    },
    {
     "name": "stdout",
     "output_type": "stream",
     "text": [
      "Please enter your phone (or bot token): "
     ]
    }
   ],
   "source": [
    "import os\n",
    "from pathlib import Path\n",
    "import asyncio\n",
    "\n",
    "from telethon.sync import TelegramClient\n",
    "from telethon.tl.types import MessageMediaPhoto\n",
    "\n",
    "from dotenv import load_dotenv\n",
    "env_path = Path('.') / '.env'\n",
    "load_dotenv(dotenv_path=env_path)\n",
    "\n",
    "app_id = os.getenv('TELEGRAM_APP_ID')\n",
    "api_hash = os.getenv('TELEGRAM_API_HASH')\n",
    "\n",
    "client = TelegramClient('session', app_id, api_hash)\n",
    "\n",
    "async def scrape_channel(channel_username, limit=50):\n",
    "    await client.start()\n",
    "    print(f\"Scraping messages from {channel_username}\")\n",
    "\n",
    "    messages = await client.get_messages(channel_username, limit=limit)\n",
    "    os.makedirs(channel_username, exist_ok=True)\n",
    "\n",
    "    for i, message in enumerate(messages):\n",
    "        if message.text:\n",
    "            print(f\"{i+1}. {message.text}\\n\")\n",
    "        if message.media and isinstance(message.media, MessageMediaPhoto):\n",
    "            file_path = await message.download_media(file=channel_username + '/')\n",
    "            print(f\"Saved image to: {file_path}\")\n",
    "\n",
    "    await client.disconnect()\n",
    "\n",
    "channels = [\"lobelia4cosmetics\", \"CheMed123\", \"tikvahpharma\"]\n",
    "\n",
    "tasks = [scrape_channel(channel) for channel in channels]\n",
    "await asyncio.gather(*tasks)\n"
   ]
  }
 ],
 "metadata": {
  "kernelspec": {
   "display_name": ".venv",
   "language": "python",
   "name": "python3"
  },
  "language_info": {
   "codemirror_mode": {
    "name": "ipython",
    "version": 3
   },
   "file_extension": ".py",
   "mimetype": "text/x-python",
   "name": "python",
   "nbconvert_exporter": "python",
   "pygments_lexer": "ipython3",
   "version": "3.12.3"
  }
 },
 "nbformat": 4,
 "nbformat_minor": 5
}
